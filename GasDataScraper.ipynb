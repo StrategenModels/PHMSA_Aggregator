{
 "cells": [
  {
   "cell_type": "code",
   "execution_count": null,
   "id": "01de8a56-0be4-4f17-b768-3c32999d9034",
   "metadata": {
    "tags": []
   },
   "outputs": [],
   "source": [
    "import pandas as pd\n",
    "companyname = input(\"Insert company name here:\")\n",
    "result = pd.DataFrame()\n",
    "for year in range(2010, 2023):\n",
    "    filename = f\"annual_gas_distribution_{year}.xlsx\"\n",
    "    df = pd.read_excel(filename)\n",
    "    row = df[df.iloc[:, 5] == companyname].iloc[0] # get the first row that matches the condition\n",
    "    result = result.append(row)\n",
    "\n",
    "result.to_csv(f\"{companyname}.csv\", index=False)\n",
    "\n"
   ]
  },
  {
   "cell_type": "code",
   "execution_count": null,
   "id": "31167fb4-f476-4c86-b200-1718791a16db",
   "metadata": {},
   "outputs": [],
   "source": []
  }
 ],
 "metadata": {
  "kernelspec": {
   "display_name": "Python 3 (ipykernel)",
   "language": "python",
   "name": "python3"
  },
  "language_info": {
   "codemirror_mode": {
    "name": "ipython",
    "version": 3
   },
   "file_extension": ".py",
   "mimetype": "text/x-python",
   "name": "python",
   "nbconvert_exporter": "python",
   "pygments_lexer": "ipython3",
   "version": "3.9.13"
  }
 },
 "nbformat": 4,
 "nbformat_minor": 5
}
