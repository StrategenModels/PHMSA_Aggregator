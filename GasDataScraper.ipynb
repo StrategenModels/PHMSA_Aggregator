{
 "cells": [
  {
   "cell_type": "code",
   "execution_count": 2,
   "id": "2f336863-da92-41bb-b36f-4e24744a0a04",
   "metadata": {
    "collapsed": true,
    "jupyter": {
     "outputs_hidden": true
    },
    "tags": []
   },
  
   "source": [
    "import pandas as pd\n",
    "\n",
    "result = pd.DataFrame()\n",
    "\n",
    "for year in range(2010, 2023):\n",
    "    filename = f\"annual_gas_distribution_{year}.xlsx\"\n",
    "    df = pd.read_excel(filename)\n",
    "    row = df[df['F'] == 'AMEREN ILLINOIS COMPANY'].iloc[0] # get the first row that matches the condition\n",
    "    result = result.append(row)\n",
    "\n",
    "result.to_csv(\"selected_rows.csv\", index=False)"
   ]
  },
  {
   "cell_type": "code",
   "execution_count": 4,
   "id": "01de8a56-0be4-4f17-b768-3c32999d9034",
   "metadata": {
    "tags": []
   },
   
   "source": [
    "import pandas as pd\n",
    "\n",
    "result = pd.DataFrame()\n",
    "\n",
    "for year in range(2010, 2023):\n",
    "    filename = f\"annual_gas_distribution_{year}.xlsx\"\n",
    "    df = pd.read_excel(filename)\n",
    "    row = df[df.iloc[:, 5] == 'NORTHERN ILLINOIS GAS CO'].iloc[0] # get the first row that matches the condition\n",
    "    result = result.append(row)\n",
    "\n",
    "result.to_csv(\"Nicor.csv\", index=False)\n",
    "\n"
   ]
  }
 ],
 "metadata": {
  "kernelspec": {
   "display_name": "Python 3 (ipykernel)",
   "language": "python",
   "name": "python3"
  },
  "language_info": {
   "codemirror_mode": {
    "name": "ipython",
    "version": 3
   },
   "file_extension": ".py",
   "mimetype": "text/x-python",
   "name": "python",
   "nbconvert_exporter": "python",
   "pygments_lexer": "ipython3",
   "version": "3.9.13"
  }
 },
 "nbformat": 4,
 "nbformat_minor": 5
}
