{
 "cells": [
  {
   "cell_type": "code",
   "execution_count": 3,
   "id": "1d370fa2-ed7d-4743-b6ad-247feb8391aa",
   "metadata": {
    "tags": []
   },
   "outputs": [
    {
     "name": "stdin",
     "output_type": "stream",
     "text": [
      "Enter the name of the company to compare:  AMEREN ILLINOIS COMPANY\n"
     ]
    },
    {
     "name": "stdout",
     "output_type": "stream",
     "text": [
      "Top 5 most similar companies to AMEREN ILLINOIS COMPANY :\n",
      "MIDAMERICAN ENERGY COMPANY\n",
      "PACIFIC GAS & ELECTRIC CO\n",
      "PUBLIC SERVICE CO OF COLORADO\n",
      "LIBERTY UTILITIES (MIDSTATES NATURAL GAS) CORP. D/B/A LIBERTY UTILITIES\n",
      "TEXAS GAS SERVICE COMPANY, A DIVISION OF ONE GAS, INC.\n"
     ]
    }
   ],
   "source": [
    "import pandas as pd\n",
    "from sklearn.metrics.pairwise import cosine_similarity\n",
    "\n",
    "# Load the data into a Pandas DataFrame\n",
    "df = pd.read_excel('compdata.xlsx', index_col=0)\n",
    "\n",
    "# Remove any rows with missing values and replace with 0\n",
    "df = df.fillna(0)\n",
    "\n",
    "# Get the name of the company to compare\n",
    "company_name = input(\"Enter the name of the company to compare: \")\n",
    "\n",
    "# Get the row for the target company\n",
    "target_company = df.loc[company_name]\n",
    "\n",
    "# Filter out the columns where the target company is 0\n",
    "relevant_cols = target_company[target_company != 0].index\n",
    "\n",
    "# Filter the DataFrame to only include relevant columns\n",
    "df = df[relevant_cols]\n",
    "\n",
    "# Compute the cosine similarity matrix between each row\n",
    "cosine_sim = cosine_similarity(df)\n",
    "\n",
    "# Get the index of the target company in the DataFrame\n",
    "company_idx = df.index.get_loc(company_name)\n",
    "\n",
    "# Get the cosine similarity scores for the target company compared to all other companies\n",
    "similarity_scores = list(enumerate(cosine_sim[company_idx]))\n",
    "\n",
    "# Sort the list of similarity scores by descending order\n",
    "sorted_scores = sorted(similarity_scores, key=lambda x: x[1], reverse=True)\n",
    "\n",
    "# Get the top 5 most similar companies (excluding the target company)\n",
    "top_companies = [df.index[i] for i, score in sorted_scores[1:6]]\n",
    "\n",
    "# Print the list of top similar companies\n",
    "print(\"Top 5 most similar companies to\", company_name, \":\")\n",
    "for company in top_companies:\n",
    "    print(company)\n"
   ]
  },
  {
   "cell_type": "code",
   "execution_count": null,
   "id": "cbd1442c-2c82-474f-a988-6493f10ab486",
   "metadata": {
    "jupyter": {
     "source_hidden": true
    },
    "tags": []
   },
   "outputs": [],
   "source": [
    "import pandas as pd\n",
    "from sklearn.metrics.pairwise import cosine_similarity\n",
    "\n",
    "# Load the data into a Pandas DataFrame\n",
    "df = pd.read_excel('compdata.xlsx', index_col=0)\n",
    "\n",
    "# Remove any rows with missing values and replace with 0\n",
    "df = df.fillna(0)\n",
    "\n",
    "# Compute the cosine similarity matrix between each row\n",
    "cosine_sim = cosine_similarity(df)\n",
    "\n",
    "# Get the name of the company to compare\n",
    "company_name = input(\"Enter the name of the company to compare: \")\n",
    "\n",
    "# Get the index of the company in the DataFrame\n",
    "company_idx = df.index.get_loc(company_name)\n",
    "\n",
    "# Get the cosine similarity scores for the company compared to all other companies\n",
    "similarity_scores = list(enumerate(cosine_sim[company_idx]))\n",
    "\n",
    "# Sort the list of similarity scores by descending order\n",
    "sorted_scores = sorted(similarity_scores, key=lambda x: x[1], reverse=True)\n",
    "\n",
    "# Get the top 5 most similar companies (excluding the input company)\n",
    "top_companies = [df.index[i] for i, score in sorted_scores[1:6]]\n",
    "\n",
    "# Print the list of top similar companies\n",
    "print(\"Top 5 most similar companies to\", company_name, \":\")\n",
    "for company in top_companies:\n",
    "    print(company)\n"
   ]
  }
 ],
 "metadata": {
  "kernelspec": {
   "display_name": "Python 3 (ipykernel)",
   "language": "python",
   "name": "python3"
  },
  "language_info": {
   "codemirror_mode": {
    "name": "ipython",
    "version": 3
   },
   "file_extension": ".py",
   "mimetype": "text/x-python",
   "name": "python",
   "nbconvert_exporter": "python",
   "pygments_lexer": "ipython3",
   "version": "3.9.13"
  }
 },
 "nbformat": 4,
 "nbformat_minor": 5
}
